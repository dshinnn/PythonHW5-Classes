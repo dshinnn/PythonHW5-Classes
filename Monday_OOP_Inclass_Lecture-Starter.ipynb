{
 "cells": [
  {
   "cell_type": "markdown",
   "metadata": {},
   "source": [
    "# Object-Oriented-Programming (OOP)"
   ]
  },
  {
   "cell_type": "markdown",
   "metadata": {},
   "source": [
    "## Tasks Today:\n",
    "\n",
    "   \n",
    "\n",
    "1) <b>Creating a Class (Initializing/Declaring)</b> <br>\n",
    "2) <b>Using a Class (Instantiating)</b> <br>\n",
    " &nbsp;&nbsp;&nbsp;&nbsp; a) Creating One Instance <br>\n",
    " &nbsp;&nbsp;&nbsp;&nbsp; b) Creating Multiple Instances <br>\n",
    " &nbsp;&nbsp;&nbsp;&nbsp; c) In-Class Exercise #1 - Create a Class 'Car' and instantiate three different makes of cars <br>\n",
    "3) <b>The \\__init\\__() Method</b> <br>\n",
    " &nbsp;&nbsp;&nbsp;&nbsp; a) The 'self' Attribute <br>\n",
    "4) <b>Class Attributes</b> <br>\n",
    " &nbsp;&nbsp;&nbsp;&nbsp; a) Initializing Attributes <br>\n",
    " &nbsp;&nbsp;&nbsp;&nbsp; b) Setting an Attribute Outside of the \\__init\\__() Method <br>\n",
    " &nbsp;&nbsp;&nbsp;&nbsp; c) Setting Defaults for Attributes <br>\n",
    " &nbsp;&nbsp;&nbsp;&nbsp; d) Accessing Class Attributes <br>\n",
    " &nbsp;&nbsp;&nbsp;&nbsp; e) Changing Class Attributes <br>\n",
    " &nbsp;&nbsp;&nbsp;&nbsp; f) In-Class Exercise #2 - Update your 'Car' class with \\__init\\__() method and class attributes<br>\n",
    "5) <b>Class Methods</b> <br>\n",
    " &nbsp;&nbsp;&nbsp;&nbsp; a) Creating <br>\n",
    " &nbsp;&nbsp;&nbsp;&nbsp; b) Calling <br>\n",
    " &nbsp;&nbsp;&nbsp;&nbsp; c) Modifying an Attribute's Value Through a Method <br>\n",
    " &nbsp;&nbsp;&nbsp;&nbsp; d) Incrementing an Attribute's Value Through a Method <br>\n",
    " &nbsp;&nbsp;&nbsp;&nbsp; e) In-Class Exercise #3 - Update Car class with new methods <br>\n",
    "6) <b>Classes as Attributes</b> <br>\n",
    "8) <b>Exercises</b> <br>\n",
    " &nbsp;&nbsp;&nbsp;&nbsp; a) Exercise #1 - Turn the shopping cart program from yesterday into an object-oriented program <br>\n",
    "  &nbsp;&nbsp;&nbsp;&nbsp; a) Exercise #2 - Create an Animal class with Eat, Sleep, and Play methods <br>"
   ]
  },
  {
   "cell_type": "code",
   "execution_count": null,
   "metadata": {},
   "outputs": [],
   "source": []
  },
  {
   "cell_type": "markdown",
   "metadata": {},
   "source": [
    "#### Object-Oriented Programming"
   ]
  },
  {
   "cell_type": "markdown",
   "metadata": {},
   "source": [
    "Object-Oriented Programming (OOP) allows us to create programs so that that properties and behaviors are bundled into **objects**. OOP models real-world entities as software objects that have some data associated with them and can perform certain functions."
   ]
  },
  {
   "cell_type": "markdown",
   "metadata": {},
   "source": [
    "## Creating a Class (Initializing/Declaring)\n",
    "<p>When creating a class, function, or even a variable you are initializing that object. Initializing and Declaring occur at the same time in Python, whereas in lower level languages you have to declare an object before initializing it. This is the first step in the process of using a class.</p>"
   ]
  },
  {
   "cell_type": "code",
   "execution_count": 12,
   "metadata": {},
   "outputs": [
    {
     "name": "stdout",
     "output_type": "stream",
     "text": [
      "Help on class Student in module __main__:\n",
      "\n",
      "class Student(builtins.object)\n",
      " |  Data descriptors defined here:\n",
      " |  \n",
      " |  __dict__\n",
      " |      dictionary for instance variables (if defined)\n",
      " |  \n",
      " |  __weakref__\n",
      " |      list of weak references to the object (if defined)\n",
      "\n"
     ]
    }
   ],
   "source": [
    "# Syntax: class ClassName(): or class ClassName:\n",
    "class Student():\n",
    "    pass\n",
    "\n",
    "help(Student)"
   ]
  },
  {
   "cell_type": "markdown",
   "metadata": {},
   "source": [
    "## Using a Class (Instantiating)\n",
    "<p>The process of creating a class is called <i>Instantiating</i>. Each time you create a variable of that type of class, it is referred to as an <i>Instance</i> of that class. This is the second step in the process of using a class.</p>"
   ]
  },
  {
   "cell_type": "code",
   "execution_count": 5,
   "metadata": {},
   "outputs": [
    {
     "name": "stdout",
     "output_type": "stream",
     "text": [
      "<__main__.Student object at 0x0000012D2827D640>\n",
      "<__main__.Student object at 0x0000012D282738B0>\n"
     ]
    }
   ],
   "source": [
    "student = Student()\n",
    "print(student)\n",
    "\n",
    "student_2 = Student()\n",
    "print(student_2)"
   ]
  },
  {
   "cell_type": "markdown",
   "metadata": {},
   "source": [
    "##### Creating One Instance"
   ]
  },
  {
   "cell_type": "code",
   "execution_count": 9,
   "metadata": {
    "scrolled": true
   },
   "outputs": [
    {
     "name": "stdout",
     "output_type": "stream",
     "text": [
      "Student 1:  {'first_name': 'Jimmy', 'last_name': 'Smith'}\n",
      "Student 2:  {'first_name': 'Laura', 'last_name': 'Green'}\n"
     ]
    }
   ],
   "source": [
    "student.first_name = 'Jimmy'\n",
    "student.last_name = 'Smith'\n",
    "\n",
    "student_2.first_name = 'Laura'\n",
    "student_2.last_name = 'Green'\n",
    "\n",
    "print('Student 1: ', student.__dict__)\n",
    "print('Student 2: ', student_2.__dict__)"
   ]
  },
  {
   "cell_type": "code",
   "execution_count": 11,
   "metadata": {},
   "outputs": [
    {
     "name": "stdout",
     "output_type": "stream",
     "text": [
      "Jimmy Smith\n",
      "Laura Green\n"
     ]
    }
   ],
   "source": [
    "print(student.first_name, student.last_name)\n",
    "print(student_2.first_name, student_2.last_name)"
   ]
  },
  {
   "cell_type": "markdown",
   "metadata": {},
   "source": [
    "##### Creating Multiple Instances"
   ]
  },
  {
   "cell_type": "code",
   "execution_count": null,
   "metadata": {},
   "outputs": [],
   "source": []
  },
  {
   "cell_type": "markdown",
   "metadata": {},
   "source": [
    "##### Adding attributes to instances"
   ]
  },
  {
   "cell_type": "code",
   "execution_count": null,
   "metadata": {},
   "outputs": [],
   "source": []
  },
  {
   "cell_type": "markdown",
   "metadata": {},
   "source": [
    "##### In-Class Exercise #1 - Create a Class 'Car' and Instantiate three different car instances. Add a different make for each car."
   ]
  },
  {
   "cell_type": "code",
   "execution_count": 13,
   "metadata": {},
   "outputs": [],
   "source": [
    "class Car():\n",
    "    pass"
   ]
  },
  {
   "cell_type": "code",
   "execution_count": 14,
   "metadata": {},
   "outputs": [],
   "source": [
    "car1 = Car()\n",
    "car2 = Car()\n",
    "car3 = Car()"
   ]
  },
  {
   "cell_type": "code",
   "execution_count": 17,
   "metadata": {},
   "outputs": [
    {
     "name": "stdout",
     "output_type": "stream",
     "text": [
      "Honda\n",
      "Mustang\n",
      "BMW\n"
     ]
    }
   ],
   "source": [
    "car1.make = 'Honda'\n",
    "car2.make = 'Mustang'\n",
    "car3.make = 'BMW'\n",
    "\n",
    "print(car1.make)\n",
    "print(car2.make)\n",
    "print(car3.make)"
   ]
  },
  {
   "cell_type": "markdown",
   "metadata": {},
   "source": [
    "## The \\__init\\__() Method <br>\n",
    "<p>This method is used in almost every created class, and called only once upon the creation of the class instance. This method will initialize all variables needed for the object.</p>\n",
    "<p>The __init__() method is a constructor</p>"
   ]
  },
  {
   "cell_type": "markdown",
   "metadata": {},
   "source": [
    "##### The 'self' Attribute <br>\n",
    "<p>This attribute is required to keep track of specific instance's attributes. Without the self attribute, the program would not know how to reference or keep track of an instance's attributes.</p>"
   ]
  },
  {
   "cell_type": "code",
   "execution_count": 27,
   "metadata": {},
   "outputs": [],
   "source": [
    "# Example of how __init__() method works using a function\n",
    "def create_student(first, last, teacher):\n",
    "    student_instance = Student()\n",
    "    student_instance.first_name = first\n",
    "    student_instance.last_name = last\n",
    "    student_instance.teacher = teacher\n",
    "    \n",
    "    return student_instance"
   ]
  },
  {
   "cell_type": "code",
   "execution_count": 28,
   "metadata": {
    "scrolled": true
   },
   "outputs": [
    {
     "name": "stdout",
     "output_type": "stream",
     "text": [
      "<__main__.Student object at 0x0000012D2827DCD0>\n",
      "{'first_name': 'Joel', 'last_name': 'Carter', 'teacher': 'Brian Stanton'}\n"
     ]
    }
   ],
   "source": [
    "new_student = create_student('Joel', 'Carter', 'Brian Stanton')\n",
    "print(new_student)\n",
    "print(new_student.__dict__)"
   ]
  },
  {
   "cell_type": "code",
   "execution_count": 35,
   "metadata": {},
   "outputs": [
    {
     "name": "stdout",
     "output_type": "stream",
     "text": [
      "<__main__.Student object at 0x0000012D28364E20>\n",
      "Bob Smith\n",
      "Teacher 1\n"
     ]
    }
   ],
   "source": [
    "class Student():\n",
    "    # self ALWAYS has to be the first parameter\n",
    "    def __init__(self, first, last, teacher):\n",
    "        self.first_name = first\n",
    "        self.last_name = last\n",
    "        self.teacher = teacher\n",
    "\n",
    "student = Student('Bob', 'Smith', 'Teacher 1')\n",
    "print(student)\n",
    "print(student.first_name, student.last_name)\n",
    "print(student.teacher)"
   ]
  },
  {
   "cell_type": "markdown",
   "metadata": {},
   "source": [
    "## Class Attributes <br>\n",
    "<p>While variables are inside of a class, they are referred to as attributes and not variables. When someone says 'attribute' you know they're speaking about a class. Attributes can be initialized through the init method, or outside of it.</p>"
   ]
  },
  {
   "cell_type": "markdown",
   "metadata": {},
   "source": [
    "##### Initializing Attributes"
   ]
  },
  {
   "cell_type": "code",
   "execution_count": 41,
   "metadata": {},
   "outputs": [],
   "source": [
    "class Truck:\n",
    "    wheels = 4  # class attribute\n",
    "    def __init__(self, color, make):\n",
    "        self.color = color   # instance attribute\n",
    "        self.make = make     # instance attribute\n",
    "\n",
    "truck1 = Truck('blue', 'Ford')\n",
    "truck2 = Truck('red', 'Chevy')"
   ]
  },
  {
   "cell_type": "code",
   "execution_count": 42,
   "metadata": {},
   "outputs": [
    {
     "data": {
      "text/plain": [
       "'red'"
      ]
     },
     "execution_count": 42,
     "metadata": {},
     "output_type": "execute_result"
    }
   ],
   "source": [
    "truck2.color"
   ]
  },
  {
   "cell_type": "markdown",
   "metadata": {},
   "source": [
    "##### Accessing Class Attributes"
   ]
  },
  {
   "cell_type": "code",
   "execution_count": 44,
   "metadata": {
    "scrolled": true
   },
   "outputs": [
    {
     "name": "stdout",
     "output_type": "stream",
     "text": [
      "5\n"
     ]
    }
   ],
   "source": [
    "# See Above\n",
    "truck1.wheels = 5\n",
    "print(truck1.wheels)"
   ]
  },
  {
   "cell_type": "markdown",
   "metadata": {},
   "source": [
    "##### Setting Defaults for Attributes"
   ]
  },
  {
   "cell_type": "code",
   "execution_count": 45,
   "metadata": {},
   "outputs": [],
   "source": [
    "class Bike:\n",
    "    def __init__(self, color, brand='Schwinn'):\n",
    "        self.color = color\n",
    "        self.brand = brand\n",
    "        self.wheels = 2\n",
    "\n",
    "my_bike = Bike('blue')\n",
    "your_bike = Bike('red', 'Giant')"
   ]
  },
  {
   "cell_type": "code",
   "execution_count": 49,
   "metadata": {},
   "outputs": [
    {
     "name": "stdout",
     "output_type": "stream",
     "text": [
      "blue Schwinn\n",
      "Giant\n",
      "2 2\n"
     ]
    }
   ],
   "source": [
    "print(my_bike.color, my_bike.brand)\n",
    "print(your_bike.brand)\n",
    "print(my_bike.wheels, your_bike.wheels)"
   ]
  },
  {
   "cell_type": "markdown",
   "metadata": {},
   "source": [
    "##### Changing Class Attributes <br>\n",
    "<p>Keep in mind there are global class attributes and then there are attributes only available to each class instance which won't effect other classes.</p>"
   ]
  },
  {
   "cell_type": "code",
   "execution_count": 51,
   "metadata": {},
   "outputs": [],
   "source": [
    "class Truck():\n",
    "    wheels = 4 # Class Attribute\n",
    "    def __init__(self, color, make):\n",
    "        self.color = color # Instance Attribute\n",
    "        self.make = make   # Instance Attribute\n",
    "\n",
    "truck1 = Truck('black', 'Ford')\n",
    "truck2 = Truck('white', 'GM')"
   ]
  },
  {
   "cell_type": "code",
   "execution_count": 53,
   "metadata": {},
   "outputs": [
    {
     "name": "stdout",
     "output_type": "stream",
     "text": [
      "4\n",
      "4\n"
     ]
    }
   ],
   "source": [
    "print(truck1.wheels)\n",
    "print(truck2.wheels)"
   ]
  },
  {
   "cell_type": "code",
   "execution_count": 54,
   "metadata": {
    "scrolled": true
   },
   "outputs": [
    {
     "name": "stdout",
     "output_type": "stream",
     "text": [
      "16\n",
      "4\n"
     ]
    }
   ],
   "source": [
    "# Setting an INSTANCE Attribute\n",
    "truck1.wheels = 16\n",
    "print(truck1.wheels)\n",
    "print(truck2.wheels)"
   ]
  },
  {
   "cell_type": "code",
   "execution_count": 55,
   "metadata": {
    "scrolled": true
   },
   "outputs": [
    {
     "name": "stdout",
     "output_type": "stream",
     "text": [
      "16\n",
      "24\n"
     ]
    }
   ],
   "source": [
    "# Setting a CLASS Attribute\n",
    "Truck.wheels = 24\n",
    "print(truck1.wheels)\n",
    "print(truck2.wheels)"
   ]
  },
  {
   "cell_type": "code",
   "execution_count": 56,
   "metadata": {},
   "outputs": [
    {
     "name": "stdout",
     "output_type": "stream",
     "text": [
      "{'color': 'black', 'make': 'Ford', 'wheels': 16}\n",
      "{'color': 'white', 'make': 'GM'}\n",
      "{'__module__': '__main__', 'wheels': 24, '__init__': <function Truck.__init__ at 0x0000012D293A9EE0>, '__dict__': <attribute '__dict__' of 'Truck' objects>, '__weakref__': <attribute '__weakref__' of 'Truck' objects>, '__doc__': None}\n"
     ]
    }
   ],
   "source": [
    "print(truck1.__dict__)\n",
    "print(truck2.__dict__)\n",
    "print(Truck.__dict__)"
   ]
  },
  {
   "cell_type": "markdown",
   "metadata": {},
   "source": [
    "##### In-Class Exercise 2 - Create an \\__init__ method for your Car class which takes in color and model with a default value for gas_level of 100. Your class should also have a class attribute for model. Once you have created the class, instantiate 3 different cars"
   ]
  },
  {
   "cell_type": "code",
   "execution_count": 65,
   "metadata": {},
   "outputs": [
    {
     "name": "stdout",
     "output_type": "stream",
     "text": [
      "blue Civic 100\n",
      "green Lancer 100\n",
      "red RL 50\n"
     ]
    }
   ],
   "source": [
    "class Car():\n",
    "    model = ''\n",
    "    def __init__(self, color, model, gas_level = 100):\n",
    "        self.color = color\n",
    "        self.model = model\n",
    "        self.gas_level = gas_level\n",
    "\n",
    "car1 = Car('blue', 'Civic')\n",
    "car2 = Car('green', 'Lancer')\n",
    "car3 = Car('red', 'RL', 50)\n",
    "\n",
    "print(car1.color, car1.model, car1.gas_level)\n",
    "print(car2.color, car2.model, car2.gas_level)\n",
    "print(car3.color, car3.model, car3.gas_level)"
   ]
  },
  {
   "cell_type": "code",
   "execution_count": 67,
   "metadata": {},
   "outputs": [
    {
     "data": {
      "text/plain": [
       "100"
      ]
     },
     "execution_count": 67,
     "metadata": {},
     "output_type": "execute_result"
    }
   ],
   "source": [
    "# getattr\n",
    "getattr(car2,'gas_level')"
   ]
  },
  {
   "cell_type": "code",
   "execution_count": 71,
   "metadata": {},
   "outputs": [
    {
     "name": "stdout",
     "output_type": "stream",
     "text": [
      "{'color': 'blue', 'model': 'Civic', 'gas_level': 100, 'owner': 'Brian'}\n"
     ]
    }
   ],
   "source": [
    "# setattr\n",
    "setattr(car1, 'owner', 'Brian')\n",
    "print(car1.__dict__)"
   ]
  },
  {
   "cell_type": "code",
   "execution_count": 72,
   "metadata": {},
   "outputs": [
    {
     "name": "stdout",
     "output_type": "stream",
     "text": [
      "{'color': 'blue', 'model': 'Civic', 'gas_level': 100}\n"
     ]
    }
   ],
   "source": [
    "# delattr\n",
    "delattr(car1, 'owner')\n",
    "print(car1.__dict__)"
   ]
  },
  {
   "cell_type": "code",
   "execution_count": 66,
   "metadata": {},
   "outputs": [
    {
     "name": "stdout",
     "output_type": "stream",
     "text": [
      "{'name': 'Brian', 'age': '45', 'hometown': 'Barcelona'}\n"
     ]
    }
   ],
   "source": [
    "class Test:\n",
    "    def __init__(self, **kwargs):\n",
    "        print(kwargs)\n",
    "\n",
    "my_test = Test(name='Brian', age='45', hometown='Barcelona')"
   ]
  },
  {
   "cell_type": "markdown",
   "metadata": {},
   "source": [
    "## Class Methods <br>\n",
    "<p>While inside of a class, functions are referred to as 'methods'. If you hear someone mention methods, they're speaking about classes. Methods are essentially functions, but only callable on the instances of a class.</p>"
   ]
  },
  {
   "cell_type": "markdown",
   "metadata": {},
   "source": [
    "##### Creating"
   ]
  },
  {
   "cell_type": "code",
   "execution_count": 124,
   "metadata": {},
   "outputs": [
    {
     "name": "stdout",
     "output_type": "stream",
     "text": [
      "{'first': 'Zack', 'last': 'Lavine', 'salary': 100000, 'email': 'Zack.Lavine@company.org'}\n",
      "{'first': 'Lonzo', 'last': 'Ball', 'salary': 75000, 'email': 'Lonzo.Ball@company.org'}\n"
     ]
    }
   ],
   "source": [
    "class Employee():\n",
    "    raise_amount = 1.05\n",
    "    \n",
    "    def __init__(self, first, last, salary):\n",
    "        self.first = first\n",
    "        self.last = last\n",
    "        self.salary = salary\n",
    "        self.email = first + '.' + last + '@company.org'\n",
    "    \n",
    "    def full_name(self):\n",
    "        return f'{self.first} {self.last}'\n",
    "    \n",
    "    def set_salary(self, salary):\n",
    "        self.salary = salary\n",
    "    \n",
    "    def apply_raise(self):\n",
    "        # if you set the raise_amount to Employee.raise_amount it will only look at the class \n",
    "        # attribute\n",
    "        self.salary = int(self.salary * self.raise_amount)\n",
    "    \n",
    "emp1 = Employee('Zack', 'Lavine', 100000)\n",
    "emp2 = Employee('Lonzo', 'Ball', 75000)\n",
    "\n",
    "print(emp1.__dict__)\n",
    "print(emp2.__dict__)"
   ]
  },
  {
   "cell_type": "markdown",
   "metadata": {},
   "source": [
    "##### Calling"
   ]
  },
  {
   "cell_type": "code",
   "execution_count": 90,
   "metadata": {},
   "outputs": [
    {
     "name": "stdout",
     "output_type": "stream",
     "text": [
      "Zack Lavine\n",
      "Zack Lavine\n"
     ]
    }
   ],
   "source": [
    "print(emp1.full_name()) # Preferred method\n",
    "print(Employee.full_name(emp1)) # Alternative method"
   ]
  },
  {
   "cell_type": "markdown",
   "metadata": {},
   "source": [
    "##### Modifying an Attribute's Value Through a Method"
   ]
  },
  {
   "cell_type": "code",
   "execution_count": 127,
   "metadata": {
    "scrolled": true
   },
   "outputs": [
    {
     "data": {
      "text/plain": [
       "52500"
      ]
     },
     "execution_count": 127,
     "metadata": {},
     "output_type": "execute_result"
    }
   ],
   "source": [
    "emp1.set_salary(50000)\n",
    "emp1.apply_raise()\n",
    "emp1.salary"
   ]
  },
  {
   "cell_type": "markdown",
   "metadata": {},
   "source": [
    "##### Incrementing an Attribute's Value Through a Method"
   ]
  },
  {
   "cell_type": "markdown",
   "metadata": {},
   "source": [
    "##### In-Class Exercise #3 - Add two methods to your car class. One method called `drive` that will take in the number of miles and decrease that car's `gas_level` by 1 unit for every 5 miles. Another method called `fill_up` will take in gallons and increase the `gas_level` by 10 units for every gallon."
   ]
  },
  {
   "cell_type": "code",
   "execution_count": 420,
   "metadata": {
    "scrolled": false
   },
   "outputs": [
    {
     "name": "stdout",
     "output_type": "stream",
     "text": [
      "blue Civic 100\n",
      "green Lancer 100\n",
      "red RL 50\n"
     ]
    }
   ],
   "source": [
    "class Car():\n",
    "    model = ''\n",
    "    def __init__(self, color, model, gas_level = 100):\n",
    "        self.color = color\n",
    "        self.model = model\n",
    "        self.gas_level = gas_level\n",
    "    \n",
    "    def drive(self, miles):\n",
    "        self.gas_level -= miles // 5\n",
    "        \n",
    "        if self.gas_level < 0:\n",
    "            self.gas_level = 0\n",
    "        \n",
    "    def fill_up(self, gallons):\n",
    "        if self.gas_level < 101:\n",
    "            self.gas_level += gallons * 10\n",
    "        \n",
    "car1 = Car('blue', 'Civic')\n",
    "car2 = Car('green', 'Lancer')\n",
    "car3 = Car('red', 'RL', 50)\n",
    "\n",
    "print(car1.color, car1.model, car1.gas_level)\n",
    "print(car2.color, car2.model, car2.gas_level)\n",
    "print(car3.color, car3.model, car3.gas_level)"
   ]
  },
  {
   "cell_type": "code",
   "execution_count": 423,
   "metadata": {},
   "outputs": [],
   "source": [
    "car1.gas_level = 10"
   ]
  },
  {
   "cell_type": "code",
   "execution_count": 424,
   "metadata": {
    "scrolled": true
   },
   "outputs": [
    {
     "name": "stdout",
     "output_type": "stream",
     "text": [
      "0\n"
     ]
    }
   ],
   "source": [
    "car1.drive(50)\n",
    "print(car1.gas_level)"
   ]
  },
  {
   "cell_type": "code",
   "execution_count": 425,
   "metadata": {},
   "outputs": [
    {
     "name": "stdout",
     "output_type": "stream",
     "text": [
      "10\n"
     ]
    }
   ],
   "source": [
    "car1.fill_up(1)\n",
    "print(car1.gas_level)"
   ]
  },
  {
   "cell_type": "markdown",
   "metadata": {},
   "source": [
    "## Classes as Attributes <br>\n",
    "<p>Classes can also be used as attributes within another class. This is useful in situations where you need to keep variables locally stored, instead of globally stored.</p>"
   ]
  },
  {
   "cell_type": "code",
   "execution_count": 440,
   "metadata": {},
   "outputs": [],
   "source": [
    "class Album():\n",
    "    company = 'Apple Records'\n",
    "    \n",
    "    def __init__(self, title, artist, release_year, song_list=[]):\n",
    "        self.title = title\n",
    "        self.artist = artist\n",
    "        self.release_year = release_year\n",
    "        self.song_list = song_list\n",
    "            \n",
    "    def add_song(self, song):\n",
    "        self.song_list.append(song)\n",
    "        print(f'{song.name} has been added to the album')\n",
    "        \n",
    "    def play_album(self):\n",
    "        for song in self.song_list:\n",
    "            print(f'Playing {song.name} for the next {song.length}')\n",
    "    \n",
    "    \n",
    "class Song():\n",
    "    def __init__(self, name, length, features=None):\n",
    "        self.name = name\n",
    "        self.length = length\n",
    "        self.features = features"
   ]
  },
  {
   "cell_type": "code",
   "execution_count": 442,
   "metadata": {},
   "outputs": [],
   "source": [
    "song1 = Song('Come Together', '4:19')\n",
    "song2 = Song('Something', '3:02')\n",
    "song3 = Song(\"Maxwell's Silver Hammer\", '3:27')"
   ]
  },
  {
   "cell_type": "code",
   "execution_count": 443,
   "metadata": {},
   "outputs": [],
   "source": [
    "abbey_road = Album('Abbey Road', 'The Beatles', '1969')"
   ]
  },
  {
   "cell_type": "code",
   "execution_count": 444,
   "metadata": {},
   "outputs": [
    {
     "name": "stdout",
     "output_type": "stream",
     "text": [
      "Come Together has been added to the album\n",
      "Something has been added to the album\n",
      "Maxwell's Silver Hammer has been added to the album\n"
     ]
    }
   ],
   "source": [
    "abbey_road.add_song(song1)\n",
    "abbey_road.add_song(song2)\n",
    "abbey_road.add_song(song3)"
   ]
  },
  {
   "cell_type": "code",
   "execution_count": 446,
   "metadata": {},
   "outputs": [
    {
     "name": "stdout",
     "output_type": "stream",
     "text": [
      "Playing Come Together for the next 4:19\n",
      "Playing Something for the next 3:02\n",
      "Playing Maxwell's Silver Hammer for the next 3:27\n"
     ]
    }
   ],
   "source": [
    "abbey_road.play_album()"
   ]
  },
  {
   "cell_type": "markdown",
   "metadata": {},
   "source": [
    "# Exercises"
   ]
  },
  {
   "cell_type": "markdown",
   "metadata": {},
   "source": [
    "### Exercise 1 - Turn the shopping cart program into an object-oriented program"
   ]
  },
  {
   "cell_type": "code",
   "execution_count": 39,
   "metadata": {},
   "outputs": [],
   "source": [
    "# Create a class called cart that retains items and has methods to add, remove, and show\n",
    "from IPython.display import clear_output\n",
    "class Cart():\n",
    "    def __init__(self, cart = []):\n",
    "        self.cart = cart\n",
    "    \n",
    "    # adds items to the cart when it does not exist in the cart\n",
    "    def add(self, item):\n",
    "        self.cart.append(item)\n",
    "    \n",
    "    # adds quantities when item already exists in the cart\n",
    "    def add_quantity(self, item_index, new_quantity):\n",
    "        self.cart[item_index].quantity += new_quantity\n",
    "            \n",
    "    def remove(self, item_name):\n",
    "        # checks if the item is in the cart\n",
    "        for i in self.cart:\n",
    "            if i.name == item_name:\n",
    "                print(item_name, 'has been removed.')\n",
    "                self.cart.remove(i)\n",
    "                break\n",
    "        # if it is NOT in the cart, returns an error message        \n",
    "        else:\n",
    "            print(f'{item_name} is not in the cart.')\n",
    "    \n",
    "    # clears (empties) cart\n",
    "    def clear(self):\n",
    "        self.cart.clear()\n",
    "    \n",
    "    # finds the index of an item that is already in the cart\n",
    "    def find_item_index(self, item_name):\n",
    "        for i in self.cart:\n",
    "            if i.name == item_name:\n",
    "                return self.cart.index(i)\n",
    "    \n",
    "    # Prints both the final receipt and empty receipts\n",
    "    def print_receipt(self):\n",
    "        clear_output()\n",
    "        total = 0\n",
    "        print('Receipt:')\n",
    "        print('='*28)\n",
    "        \n",
    "        # if the cart is not empty, display the items\n",
    "        if self.cart != {}:\n",
    "            for i in self.cart:\n",
    "                print(f'\\t{i.name} x {i.quantity}')\n",
    "                total += i.price * i.quantity\n",
    "        \n",
    "        print('='*28)\n",
    "        print('Total:', '${:.2f}'.format(total))\n",
    "    \n",
    "class Item():\n",
    "    def __init__(self, name, price, quantity):\n",
    "        self.name = name\n",
    "        self.price = price\n",
    "        self.quantity = quantity"
   ]
  },
  {
   "cell_type": "code",
   "execution_count": 43,
   "metadata": {
    "scrolled": true
   },
   "outputs": [
    {
     "name": "stdout",
     "output_type": "stream",
     "text": [
      "Receipt:\n",
      "============================\n",
      "\tapple x 5\n",
      "\torange x 10\n",
      "============================\n",
      "Total: $15.00\n",
      "Thank you, come again!\n"
     ]
    }
   ],
   "source": [
    "new_cart = Cart([])\n",
    "while True:\n",
    "    choice = input('Which would you like to do? add/remove/clear/quit?: ').lower()\n",
    "    if choice == 'quit':\n",
    "        new_cart.print_receipt()\n",
    "        print('Thank you, come again!')\n",
    "        break\n",
    "        \n",
    "    elif choice == 'add':\n",
    "        product = input('What would you like to add?: ')\n",
    "        quantity = int(input('How many would you like?: '))\n",
    "        \n",
    "        # item index which is used to add existing items\n",
    "        item_index = new_cart.find_item_index(product) \n",
    "        \n",
    "        # if the item does NOT exist\n",
    "        if item_index == None:\n",
    "            price = float(input('How much is it?: '))\n",
    "            item = Item(product, price, quantity)\n",
    "            new_cart.add(item)\n",
    "        \n",
    "        # if the item does exist\n",
    "        else:\n",
    "            new_cart.add_quantity(item_index, quantity)\n",
    "        \n",
    "        print(f'\\n{quantity} {product}s has been added!')\n",
    "    \n",
    "    # empties the cart\n",
    "    elif choice == 'clear':\n",
    "        new_cart.clear()\n",
    "        print('\\nYour cart has been emptied!')\n",
    "        new_cart.print_receipt()\n",
    "    \n",
    "    # removes specified item from the cart\n",
    "    elif choice == 'remove':\n",
    "        item_name = input('What would you like to remove?: ')\n",
    "        new_cart.remove(item_name)\n",
    "        print(f'\\n{item_name} has been removed!')\n",
    "        new_cart.print_receipt()\n",
    "    \n",
    "    # shows current items and total of the cart\n",
    "    elif choice == 'show':\n",
    "        new_cart.print_receipt()\n",
    "    \n",
    "    # if an invalid choice has been entered\n",
    "    else:\n",
    "        print('Not a valid entry, please try again.')"
   ]
  },
  {
   "cell_type": "markdown",
   "metadata": {},
   "source": [
    "### Exercise 2 - Write a Python class for an Animal that has a name and energy attributes. The animal class should also have methods for eat, sleep, and play that will take in an integer and increase/decrease the energy of the animal with a formatted print statement"
   ]
  },
  {
   "cell_type": "code",
   "execution_count": 83,
   "metadata": {},
   "outputs": [],
   "source": [
    "# Example 1\n",
    "# buddy = Animal('Buddy', 10)\n",
    "# buddy.play(5) -> \"Buddy is playing for 5 minutes. His energy is now 5\"\n",
    "# buddy.sleep(10) -> \"Buddy is sleeping for 5 minutes. His energy is now 15\""
   ]
  },
  {
   "cell_type": "code",
   "execution_count": 172,
   "metadata": {},
   "outputs": [],
   "source": [
    "# Creates an animal that can eat and sleep to regenerate energy and play to burn the energy\n",
    "# Min: 0, Max: 100 energy\n",
    "class Animal():\n",
    "    def __init__(self, name, energy):\n",
    "        self.name = name\n",
    "        self.energy = energy\n",
    "    \n",
    "    # Regenerates animal's energy by the amount (kibble) eaten\n",
    "    def eat(self, amount):\n",
    "        current_energy = self.energy + amount\n",
    "        \n",
    "        if self.energy == 100:\n",
    "            print(f\"{self.name.title()}'s is already full, cannot eat anymore!\\n\")\n",
    "            \n",
    "        elif current_energy >= 100:\n",
    "            self.energy = 100\n",
    "            print(f'{self.name.title()} has ate {amount} kibble.')\n",
    "            print(f\"{self.name.title()}'s energy is now {self.energy}\\n\")\n",
    "            \n",
    "        else:\n",
    "            self.energy += amount\n",
    "            print(f'{self.name.title()} has ate {amount} kibble.')\n",
    "            print(f\"{self.name.title()}'s energy is now {self.energy}\\n\")\n",
    "              \n",
    "    # Regenerates animal's energy by the amount (minutes) times 2\n",
    "    def sleep(self, minutes):\n",
    "        current_energy = self.energy + (minutes * 2)\n",
    "        \n",
    "        if self.energy == 100:\n",
    "            print(f\"{self.name.title()}'s energy is already full, cannot sleep anymore!\\n\")\n",
    "            \n",
    "        elif current_energy >= 100:\n",
    "            self.energy = 100\n",
    "            print(f'{self.name} has been sleeping for {minutes} minutes.')\n",
    "            print(f\"{self.name.title()}'s energy is now full (100)!\\n\")\n",
    "            \n",
    "        else:\n",
    "            self.energy += minutes * 2\n",
    "            print(f'{self.name} has been sleeping for {minutes} minutes.')\n",
    "            print(f\"{self.name.title()}'s energy is now {self.energy}\\n\")\n",
    "    \n",
    "    # Animal uses 2 times the amount (minutes) played\n",
    "    def play(self, minutes):\n",
    "        current_energy = self.energy - (minutes * 2)\n",
    "        \n",
    "        if current_energy == 0:\n",
    "            self.energy = 0\n",
    "            print(f\"{self.name.title()} has been playing for {minutes} minutes.\")\n",
    "            print(f\"{self.name.title()} has used up all their energy ({self.energy})!\\n\")\n",
    "            \n",
    "        elif current_energy < 0:\n",
    "            print(f\"{self.name.title()} does not have enough energy to play ({self.energy})!\\n\")\n",
    "            \n",
    "        else:\n",
    "            self.energy -= minutes * 2\n",
    "            print(f\"{self.name.title()} has been playing for {minutes} minutes.\")\n",
    "            print(f\"{self.name.title()}'s energy is now {self.energy}\\n\")"
   ]
  },
  {
   "cell_type": "code",
   "execution_count": 177,
   "metadata": {
    "scrolled": true
   },
   "outputs": [
    {
     "name": "stdout",
     "output_type": "stream",
     "text": [
      "Buddy's energy is already full, cannot sleep anymore!\n",
      "\n",
      "Buddy's is already full, cannot eat anymore!\n",
      "\n",
      "Buddy does not have enough energy to play (100)!\n",
      "\n",
      "Buddy has been playing for 50 minutes.\n",
      "Buddy has used up all their energy (0)!\n",
      "\n",
      "Buddy has ate 100 kibble.\n",
      "Buddy's energy is now 100\n",
      "\n",
      "Buddy has been playing for 50 minutes.\n",
      "Buddy has used up all their energy (0)!\n",
      "\n",
      "Buddy has been sleeping for 50 minutes.\n",
      "Buddy's energy is now full (100)!\n",
      "\n",
      "Buddy's is already full, cannot eat anymore!\n",
      "\n",
      "Buddy's energy is already full, cannot sleep anymore!\n",
      "\n"
     ]
    }
   ],
   "source": [
    "# Edge cases\n",
    "buddy = Animal('Buddy', 100)\n",
    "buddy.sleep(5)\n",
    "buddy.eat(5)\n",
    "buddy.play(100)\n",
    "buddy.play(50)\n",
    "buddy.eat(100)\n",
    "buddy.play(50)\n",
    "buddy.sleep(50)\n",
    "buddy.eat(5)\n",
    "buddy.sleep(5)"
   ]
  },
  {
   "cell_type": "code",
   "execution_count": 176,
   "metadata": {},
   "outputs": [
    {
     "name": "stdout",
     "output_type": "stream",
     "text": [
      "Buddy2 has been playing for 5 minutes.\n",
      "Buddy2 has used up all their energy (0)!\n",
      "\n",
      "Buddy2 has been sleeping for 10 minutes.\n",
      "Buddy2's energy is now 20\n",
      "\n"
     ]
    }
   ],
   "source": [
    "# Base cases\n",
    "buddy2 = Animal('Buddy2', 10)\n",
    "buddy2.play(5)\n",
    "buddy2.sleep(10)"
   ]
  }
 ],
 "metadata": {
  "kernelspec": {
   "display_name": "Python 3",
   "language": "python",
   "name": "python3"
  },
  "language_info": {
   "codemirror_mode": {
    "name": "ipython",
    "version": 3
   },
   "file_extension": ".py",
   "mimetype": "text/x-python",
   "name": "python",
   "nbconvert_exporter": "python",
   "pygments_lexer": "ipython3",
   "version": "3.8.8"
  },
  "toc": {
   "base_numbering": 1,
   "nav_menu": {},
   "number_sections": true,
   "sideBar": true,
   "skip_h1_title": false,
   "title_cell": "Table of Contents",
   "title_sidebar": "Contents",
   "toc_cell": false,
   "toc_position": {},
   "toc_section_display": true,
   "toc_window_display": false
  }
 },
 "nbformat": 4,
 "nbformat_minor": 2
}
